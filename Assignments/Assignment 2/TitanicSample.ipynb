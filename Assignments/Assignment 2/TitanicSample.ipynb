{
 "cells": [
  {
   "cell_type": "markdown",
   "metadata": {},
   "source": [
    "#### Importing the necessary data from the train set using pandas "
   ]
  },
  {
   "cell_type": "code",
   "execution_count": 107,
   "metadata": {},
   "outputs": [],
   "source": [
    "import pandas as pd\n",
    "from sklearn import linear_model\n",
    "from sklearn.model_selection import train_test_split\n",
    "from sklearn import preprocessing\n",
    "\n",
    "\n",
    "\n",
    "test_data = pd.read_csv('test.csv')\n",
    "#test_data.dropna(inplace=True)\n",
    "\n",
    "train_data = pd.read_csv('train.csv')\n",
    "\n",
    "\n",
    "#print(train_data.shape,test_data.shape)\n",
    "#print(test_data)"
   ]
  },
  {
   "cell_type": "markdown",
   "metadata": {},
   "source": [
    "### Pre-Processing Data"
   ]
  },
  {
   "cell_type": "code",
   "execution_count": 108,
   "metadata": {
    "collapsed": true
   },
   "outputs": [],
   "source": [
    "def map_gender(x):\n",
    "    mp= {'male':1, 'female':2}\n",
    "    return x['Sex'].map(mp)"
   ]
  },
  {
   "cell_type": "markdown",
   "metadata": {},
   "source": [
    "# Version 1.0 "
   ]
  },
  {
   "cell_type": "markdown",
   "metadata": {},
   "source": [
    "## Split train, test data for local testing"
   ]
  },
  {
   "cell_type": "code",
   "execution_count": 130,
   "metadata": {},
   "outputs": [],
   "source": [
    "train =train_data.copy()\n",
    "x =train.drop(['PassengerId','Survived','Name','Age','Ticket','Fare','Cabin','Embarked','Parch', 'SibSp'], axis=1)\n",
    "x['Sex'] = map_gender(x)\n",
    "y =train['Survived']\n"
   ]
  },
  {
   "cell_type": "code",
   "execution_count": 131,
   "metadata": {},
   "outputs": [],
   "source": [
    "\n",
    "#print(x)\n",
    "x_train, x_test, y_train, y_test = train_test_split(x, y, test_size=0.25, random_state=1)"
   ]
  },
  {
   "cell_type": "markdown",
   "metadata": {},
   "source": [
    "## Creating a multi-varible Linear Regression Model with only sex and class as features"
   ]
  },
  {
   "cell_type": "code",
   "execution_count": 132,
   "metadata": {},
   "outputs": [
    {
     "data": {
      "text/plain": [
       "LinearRegression(copy_X=True, fit_intercept=True, n_jobs=1, normalize=True)"
      ]
     },
     "execution_count": 132,
     "metadata": {},
     "output_type": "execute_result"
    }
   ],
   "source": [
    "#print(x.shape,y.shape)\n",
    "model.fit(x_train,y_train)\n"
   ]
  },
  {
   "cell_type": "code",
   "execution_count": 133,
   "metadata": {},
   "outputs": [
    {
     "name": "stdout",
     "output_type": "stream",
     "text": [
      "0.366972985962\n"
     ]
    }
   ],
   "source": [
    "print(model.score(x_test,y_test))"
   ]
  },
  {
   "cell_type": "markdown",
   "metadata": {},
   "source": [
    "# Version 2.0 "
   ]
  },
  {
   "cell_type": "markdown",
   "metadata": {},
   "source": [
    "## Split train, test data for local testing"
   ]
  },
  {
   "cell_type": "code",
   "execution_count": 143,
   "metadata": {},
   "outputs": [
    {
     "name": "stderr",
     "output_type": "stream",
     "text": [
      "D:\\Users\\Jeewa\\Anaconda3\\lib\\site-packages\\sklearn\\utils\\validation.py:475: DataConversionWarning: Data with input dtype int64 was converted to float64 by MinMaxScaler.\n",
      "  warnings.warn(msg, DataConversionWarning)\n"
     ]
    }
   ],
   "source": [
    "train =train_data.copy()\n",
    "train =train.drop(['PassengerId','Name','Ticket','Fare','Cabin','Embarked'], axis=1)\n",
    "train =train.dropna(axis=0, how='any')\n",
    "y =train['Survived']\n",
    "x = train.drop(['Survived'], axis=1)\n",
    "x['Sex']= map_gender(x)\n",
    "min_max_scaler = preprocessing.MinMaxScaler()\n",
    "for s in ['Age','SibSp','Parch']:\n",
    "    x[s] = min_max_scaler.fit_transform(x[s].values.reshape(-1, 1))"
   ]
  },
  {
   "cell_type": "code",
   "execution_count": 144,
   "metadata": {
    "collapsed": true
   },
   "outputs": [],
   "source": [
    "\n",
    "#print(x)\n",
    "x_train, x_test, y_train, y_test = train_test_split(x, y, test_size=0.25, random_state=1)"
   ]
  },
  {
   "cell_type": "markdown",
   "metadata": {},
   "source": [
    "## Creating a multi-varible Linear Regression Model with only sex and class as features"
   ]
  },
  {
   "cell_type": "code",
   "execution_count": 147,
   "metadata": {},
   "outputs": [
    {
     "name": "stdout",
     "output_type": "stream",
     "text": [
      "     Pclass  Sex       Age  SibSp     Parch\n",
      "813       3    2  0.070118    0.8  0.333333\n",
      "448       3    2  0.057552    0.4  0.166667\n",
      "145       2    1  0.233476    0.2  0.166667\n",
      "880       2    2  0.308872    0.0  0.166667\n",
      "310       1    2  0.296306    0.0  0.000000\n",
      "120       2    1  0.258608    0.4  0.000000\n",
      "662       1    1  0.585323    0.0  0.000000\n",
      "626       2    1  0.710983    0.0  0.000000\n",
      "299       1    2  0.623021    0.0  0.166667\n",
      "682       3    1  0.246042    0.0  0.000000\n",
      "800       2    1  0.421965    0.0  0.000000\n",
      "392       3    1  0.346569    0.4  0.000000\n",
      "81        3    1  0.359135    0.0  0.000000\n",
      "432       2    2  0.522493    0.2  0.000000\n",
      "747       2    2  0.371701    0.0  0.000000\n",
      "637       2    1  0.384267    0.2  0.166667\n",
      "412       1    2  0.409399    0.2  0.000000\n",
      "169       3    1  0.346569    0.0  0.000000\n",
      "701       1    1  0.434531    0.0  0.000000\n",
      "566       3    1  0.233476    0.0  0.000000\n",
      "824       3    1  0.019854    0.8  0.166667\n",
      "865       2    2  0.522493    0.0  0.000000\n",
      "460       1    1  0.597889    0.0  0.000000\n",
      "625       1    1  0.761247    0.0  0.000000\n",
      "814       3    1  0.377984    0.0  0.000000\n",
      "115       3    1  0.258608    0.0  0.000000\n",
      "807       3    2  0.220910    0.0  0.000000\n",
      "867       1    1  0.384267    0.0  0.000000\n",
      "38        3    2  0.220910    0.4  0.000000\n",
      "548       3    1  0.409399    0.2  0.166667\n",
      "..      ...  ...       ...    ...       ...\n",
      "676       3    1  0.302589    0.0  0.000000\n",
      "397       2    1  0.572757    0.0  0.000000\n",
      "8         3    2  0.334004    0.0  0.333333\n",
      "493       1    1  0.886906    0.0  0.000000\n",
      "175       3    1  0.220910    0.2  0.166667\n",
      "111       3    2  0.176929    0.2  0.000000\n",
      "606       3    1  0.371701    0.0  0.000000\n",
      "636       3    1  0.396833    0.0  0.000000\n",
      "267       3    1  0.308872    0.2  0.000000\n",
      "729       3    2  0.308872    0.2  0.000000\n",
      "707       1    1  0.522493    0.0  0.000000\n",
      "500       3    1  0.208344    0.0  0.000000\n",
      "836       3    1  0.258608    0.0  0.000000\n",
      "621       1    1  0.522493    0.2  0.000000\n",
      "315       3    2  0.321438    0.0  0.000000\n",
      "591       1    2  0.648153    0.2  0.000000\n",
      "445       1    1  0.044986    0.0  0.333333\n",
      "317       2    1  0.673285    0.0  0.000000\n",
      "343       2    1  0.308872    0.0  0.000000\n",
      "221       2    1  0.334004    0.0  0.000000\n",
      "349       3    1  0.522493    0.0  0.000000\n",
      "489       3    1  0.107816    0.2  0.166667\n",
      "642       3    2  0.019854    0.6  0.333333\n",
      "733       2    1  0.283740    0.0  0.000000\n",
      "161       2    2  0.497361    0.0  0.000000\n",
      "179       3    1  0.447097    0.0  0.000000\n",
      "808       2    1  0.484795    0.0  0.000000\n",
      "93        3    1  0.321438    0.2  0.333333\n",
      "291       1    2  0.233476    0.2  0.000000\n",
      "51        3    1  0.258608    0.0  0.000000\n",
      "\n",
      "[535 rows x 5 columns]\n"
     ]
    },
    {
     "data": {
      "text/plain": [
       "LinearRegression(copy_X=True, fit_intercept=True, n_jobs=1, normalize=True)"
      ]
     },
     "execution_count": 147,
     "metadata": {},
     "output_type": "execute_result"
    }
   ],
   "source": [
    "#print(x.shape,y.shape)\n",
    "print(x_train)\n",
    "model = linear_model.LinearRegression(normalize=True)\n",
    "model.fit(x_train,y_train)\n"
   ]
  },
  {
   "cell_type": "code",
   "execution_count": 148,
   "metadata": {},
   "outputs": [
    {
     "name": "stdout",
     "output_type": "stream",
     "text": [
      "0.413197454617\n"
     ]
    }
   ],
   "source": [
    "print(model.score(x_test,y_test))"
   ]
  },
  {
   "cell_type": "code",
   "execution_count": null,
   "metadata": {
    "collapsed": true
   },
   "outputs": [],
   "source": []
  }
 ],
 "metadata": {
  "kernelspec": {
   "display_name": "Python 3",
   "language": "python",
   "name": "python3"
  },
  "language_info": {
   "codemirror_mode": {
    "name": "ipython",
    "version": 3
   },
   "file_extension": ".py",
   "mimetype": "text/x-python",
   "name": "python",
   "nbconvert_exporter": "python",
   "pygments_lexer": "ipython3",
   "version": "3.6.3"
  }
 },
 "nbformat": 4,
 "nbformat_minor": 2
}
