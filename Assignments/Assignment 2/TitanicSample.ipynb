{
 "cells": [
  {
   "cell_type": "markdown",
   "metadata": {},
   "source": [
    "#### Importing the necessary data from the train set using pandas "
   ]
  },
  {
   "cell_type": "code",
   "execution_count": 40,
   "metadata": {},
   "outputs": [
    {
     "name": "stdout",
     "output_type": "stream",
     "text": [
      "(891, 12) (418, 11)\n"
     ]
    }
   ],
   "source": [
    "import pandas as pd\n",
    "from sklearn import linear_model\n",
    "\n",
    "model = linear_model.LinearRegression()\n",
    "\n",
    "\n",
    "test_data = pd.read_csv('test.csv')\n",
    "#test_data.dropna(inplace=True)\n",
    "\n",
    "train_data = pd.read_csv('train.csv')\n",
    "print(train_data.shape,test_data.shape)\n",
    "#print(test_data)"
   ]
  },
  {
   "cell_type": "code",
   "execution_count": null,
   "metadata": {
    "collapsed": true
   },
   "outputs": [],
   "source": [
    "## Creating a multi-varible Linear Regression Model with only "
   ]
  },
  {
   "cell_type": "code",
   "execution_count": 41,
   "metadata": {},
   "outputs": [
    {
     "name": "stdout",
     "output_type": "stream",
     "text": [
      "     Pclass  Sex\n",
      "0         3    1\n",
      "1         1    2\n",
      "2         3    2\n",
      "3         1    2\n",
      "4         3    1\n",
      "5         3    1\n",
      "6         1    1\n",
      "7         3    1\n",
      "8         3    2\n",
      "9         2    2\n",
      "10        3    2\n",
      "11        1    2\n",
      "12        3    1\n",
      "13        3    1\n",
      "14        3    2\n",
      "15        2    2\n",
      "16        3    1\n",
      "17        2    1\n",
      "18        3    2\n",
      "19        3    2\n",
      "20        2    1\n",
      "21        2    1\n",
      "22        3    2\n",
      "23        1    1\n",
      "24        3    2\n",
      "25        3    2\n",
      "26        3    1\n",
      "27        1    1\n",
      "28        3    2\n",
      "29        3    1\n",
      "..      ...  ...\n",
      "861       2    1\n",
      "862       1    2\n",
      "863       3    2\n",
      "864       2    1\n",
      "865       2    2\n",
      "866       2    2\n",
      "867       1    1\n",
      "868       3    1\n",
      "869       3    1\n",
      "870       3    1\n",
      "871       1    2\n",
      "872       1    1\n",
      "873       3    1\n",
      "874       2    2\n",
      "875       3    2\n",
      "876       3    1\n",
      "877       3    1\n",
      "878       3    1\n",
      "879       1    2\n",
      "880       2    2\n",
      "881       3    1\n",
      "882       3    2\n",
      "883       2    1\n",
      "884       3    1\n",
      "885       3    2\n",
      "886       2    1\n",
      "887       1    2\n",
      "888       3    2\n",
      "889       1    1\n",
      "890       3    1\n",
      "\n",
      "[891 rows x 2 columns]\n",
      "(891, 2) (891,)\n"
     ]
    },
    {
     "data": {
      "text/plain": [
       "LinearRegression(copy_X=True, fit_intercept=True, n_jobs=1, normalize=False)"
      ]
     },
     "execution_count": 41,
     "metadata": {},
     "output_type": "execute_result"
    }
   ],
   "source": [
    "mp= {'male':1, 'female':2}\n",
    "x =train_data.drop(['PassengerId','Survived','Name','Age','Ticket','Fare','Cabin','Embarked','Parch', 'SibSp'], axis=1)\n",
    "x['Sex']= x['Sex'].map(mp)\n",
    "print(x)\n",
    "y =train_data['Survived']\n",
    "print(x.shape,y.shape)\n",
    "model.fit(x,y)\n"
   ]
  },
  {
   "cell_type": "code",
   "execution_count": null,
   "metadata": {
    "collapsed": true
   },
   "outputs": [],
   "source": []
  }
 ],
 "metadata": {
  "kernelspec": {
   "display_name": "Python 3",
   "language": "python",
   "name": "python3"
  },
  "language_info": {
   "codemirror_mode": {
    "name": "ipython",
    "version": 3
   },
   "file_extension": ".py",
   "mimetype": "text/x-python",
   "name": "python",
   "nbconvert_exporter": "python",
   "pygments_lexer": "ipython3",
   "version": "3.6.3"
  }
 },
 "nbformat": 4,
 "nbformat_minor": 2
}
